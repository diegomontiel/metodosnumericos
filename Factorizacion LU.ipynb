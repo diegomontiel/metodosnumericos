{
 "cells": [
  {
   "cell_type": "code",
   "execution_count": 0,
   "metadata": {
    "collapsed": false
   },
   "outputs": [
   ],
   "source": [
    "import pprint\n",
    "\n",
    "def mult_matrix(M, N):\n",
    "    tuple_N = zip(*N)\n",
    "    return [[sum(el_m * el_n for el_m, el_n in zip(row_m, col_n)) for col_n in tuple_N] for row_m in M]\n",
    "\n",
    "def pivot_matrix(M):\n",
    "    m = len(M)\n",
    "    id_mat = [[float(i ==j) for i in xrange(m)] for j in xrange(m)]\n",
    "    for j in xrange(m):\n",
    "        row = max(xrange(j, m), key=lambda i: abs(M[i][j]))\n",
    "        if j != row:\n",
    "            id_mat[j], id_mat[row] = id_mat[row], id_mat[j]\n",
    "\n",
    "    return id_mat\n",
    "\n",
    "def lu_decomposition(A):\n",
    "    n = len(A)\n",
    "    L = [[0.0] * n for i in xrange(n)]\n",
    "    U = [[0.0] * n for i in xrange(n)]\n",
    "\n",
    "    P = pivot_matrix(A)\n",
    "    PA = mult_matrix(P, A)\n",
    "\n",
    "    for j in xrange(n):\n",
    "        L[j][j] = 1.0\n",
    "\n",
    "        for i in xrange(j+1):\n",
    "            s1 = sum(U[k][j] * L[i][k] for k in xrange(i))\n",
    "            U[i][j] = PA[i][j] - s1\n",
    "\n",
    "        for i in xrange(j, n):\n",
    "            s2 = sum(U[k][j] * L[i][k] for k in xrange(j))\n",
    "            L[i][j] = (PA[i][j] - s2) / U[j][j]\n",
    "\n",
    "    return (P, L, U)\n",
    "\n",
    "\n",
    "A = [[7, 3, -1, 2], [3, 8, 1, -4], [-1, 1, 4, -1], [2, -4, -1, 6]]\n",
    "P, L, U = lu_decomposition(A)\n",
    "\n",
    "print \"A:\"\n",
    "pprint.pprint(A)\n",
    "\n",
    "print \"P:\"\n",
    "pprint.pprint(P)\n",
    "\n",
    "print \"L:\"\n",
    "pprint.pprint(L)\n",
    "\n",
    "print \"U:\"\n",
    "pprint.pprint(U)"
   ]
  }
 ],
 "metadata": {
  "kernelspec": {
   "display_name": "SageMath (stable)",
   "language": "sagemath",
   "name": "sagemath"
  },
  "language_info": {
   "codemirror_mode": {
    "name": "ipython",
    "version": 2
   },
   "file_extension": ".py",
   "mimetype": "text/x-python",
   "name": "python",
   "nbconvert_exporter": "python",
   "pygments_lexer": "ipython2",
   "version": "2.7.15"
  }
 },
 "nbformat": 4,
 "nbformat_minor": 0
}