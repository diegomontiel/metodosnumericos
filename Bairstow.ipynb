{
 "cells": [
  {
   "cell_type": "code",
   "execution_count": 4,
   "metadata": {
    "collapsed": false
   },
   "outputs": [
    {
     "name": "stdout",
     "output_type": "stream",
     "text": [
      "[-9.60000000000000, 1]\n",
      "2\n",
      "1\n",
      "0\n",
      "[-1472.06000000000, 500.510000000000, -26.9100000000000, -9.60000000000000, 1]\n",
      "[-1983.17000000000, 528.420000000000, -17.3100000000000, -10.6000000000000, 1]\n"
     ]
    }
   ],
   "source": [
    "#Ejemplo Bairstow\n",
    "# f (x) = x^5 -3.5x^4 +2.75x^3 + 2.125x^2 - 3.875x + 1.25\n",
    "# [1.25,-3.875,2.125,2.75,-3.5,1]\n",
    "# [-998.46,464,-35.51,-8.6,1]\n",
    "def bn(a):\n",
    "    return a[-1]\n",
    "def bn1(a,b,r):\n",
    "    return a[-2]+r*b\n",
    "# [bn1, bn]\n",
    "def bi(i,a,r,s,b):\n",
    "    return a[i] + r*b[0] + s*b[1]\n",
    "\n",
    "def cn(b):\n",
    "    return bn(b)\n",
    "def cn1(b,c,r):\n",
    "    return bn1(b,c,r)\n",
    "def ci(i,b,r,s,c):\n",
    "    return bi(i,b,s,r,c)\n",
    "\n",
    "r= -1\n",
    "s= -1\n",
    "b= []\n",
    "c= []\n",
    "b.append(bn([-998.46,464,-35.51,-8.6,1]))\n",
    "b.insert(0,bn1([-998.46,464,-35.51,-8.6,1],b[0],r))\n",
    "print(b)\n",
    "\n",
    "for i in reversed(range(0,3)):\n",
    "    print(i)\n",
    "    b.insert(0,bi(i,[-998.46,464,-35.51,-8.6,1],r,s,b))\n",
    "\n",
    "c.append(cn(b))\n",
    "c.insert(0,cn1(b,c[0],r))\n",
    "for i in reversed(range(0,3)):\n",
    "    c.insert(0,ci(i,b,r,s,c))\n",
    "\n",
    "print(b)\n",
    "print(c)"
   ]
  },
  {
   "cell_type": "code",
   "execution_count": 0,
   "metadata": {
    "collapsed": false
   },
   "outputs": [
   ],
   "source": [
    "\n",
    "f"
   ]
  }
 ],
 "metadata": {
  "kernelspec": {
   "display_name": "SageMath (stable)",
   "name": "sagemath"
  },
  "language_info": {
   "codemirror_mode": {
    "name": "ipython",
    "version": 2
   },
   "file_extension": ".py",
   "mimetype": "text/x-python",
   "name": "python",
   "nbconvert_exporter": "python",
   "pygments_lexer": "ipython2",
   "version": "2.7.15"
  }
 },
 "nbformat": 4,
 "nbformat_minor": 0
}