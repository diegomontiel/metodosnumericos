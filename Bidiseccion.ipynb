{
 "cells": [
  {
   "cell_type": "code",
   "execution_count": 2,
   "metadata": {
    "collapsed": false
   },
   "outputs": [
    {
     "name": "stdout",
     "output_type": "stream",
     "text": [
      "La raiz es 3.41408\n",
      "69\n"
     ]
    }
   ],
   "source": [
    "#Dado un rango inicial donde haya un cambio de signo. Dividir el rango por la mitad hasta encontrar la raíz.\n",
    "#Calcular el coeficiente de arrastre\n",
    "#M=68.1 \n",
    "#V= 40 \n",
    "#T= 10\n",
    "#g= 9.81#\n",
    "#F(c)= gm/c (1-e^(-mc/10)) – v#\n",
    "\n",
    "\n",
    "import math\n",
    "#import matplotlib.pyplot as pit\n",
    "#import numpy as np\n",
    "\n",
    "def fun(x):\n",
    "\t#return  (667.38/c) * (1-exp(-6.81*c)) -40\n",
    "\treturn (x**3)-(7*x**2)+(14*x)-6\n",
    "#print(fun(14))\n",
    "#Elegir valores iniciales de x0 y x1\n",
    "#xarray= np.linspace(10,25,100)\n",
    "#yarray=np.zeros(100)\n",
    "\n",
    "#for i in range (100): \n",
    "\t#yarray[i] = fun (xarray[i])\n",
    "\n",
    "#pit.plot(xarray,yarray)\n",
    "#pit.grid()\n",
    "\n",
    "x0=3.2\n",
    "x1=4\n",
    "iteraciones=0\n",
    "for i in range (100): \n",
    "\tf0 = fun(x0)\n",
    "\tf1=fun(x1)\n",
    "\tif f0*f1 >0:\n",
    "\t\tprint('No hay raiz en este rango')\n",
    "\t\tbreak\n",
    "\tx = (x0+x1)/2 \n",
    "\tx3 = (x0 + (f1*(x1-x0)))/(f1-f0)\n",
    "\tx1=x3\n",
    "\tfx = fun(x)\n",
    "\titeraciones +=1\n",
    "\tif fx*f1 <0 :\n",
    "\t\tx0=x\n",
    "\telse:\n",
    "\t\tx1=x\n",
    "\tif abs (fx) < 0.0001:\n",
    "\t\tbreak\n",
    "print(\"La raiz es %.5f\"%x0)\n",
    "print(iteraciones)\n",
    "\n",
    "#/ / / / Falsa Posicion / / / /\n"
   ]
  },
  {
   "cell_type": "markdown",
   "metadata": {
    "collapsed": false
   },
   "source": [
   ]
  }
 ],
 "metadata": {
  "kernelspec": {
   "display_name": "SageMath (stable)",
   "name": "sagemath"
  },
  "language_info": {
   "codemirror_mode": {
    "name": "ipython",
    "version": 2
   },
   "file_extension": ".py",
   "mimetype": "text/x-python",
   "name": "python",
   "nbconvert_exporter": "python",
   "pygments_lexer": "ipython2",
   "version": "2.7.15"
  }
 },
 "nbformat": 4,
 "nbformat_minor": 0
}