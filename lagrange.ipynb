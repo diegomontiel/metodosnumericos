{
 "cells": [
  {
   "cell_type": "code",
   "execution_count": 7,
   "metadata": {
    "collapsed": false
   },
   "outputs": [
    {
     "name": "stdout",
     "output_type": "stream",
     "text": [
      "0.000587083333333333*x**4 - 4.62125833333333*x**3 + 13640.9632916667*x**2 - 17895355.2241667*x + 8803591192.49999\n"
     ]
    }
   ],
   "source": [
    "#Ejemplo lagrange\n",
    "from sympy import *\n",
    "import matplotlib.pyplot as plt\n",
    "import numpy as np\n",
    "\n",
    "x=[1950, 1960, 1970, 1980, 1990]\n",
    "y=[123.5, 131.2, 150.7, 141.3, 203.2, 240.5]\n",
    "\n",
    "pL = ''\n",
    "for k in range (len(x)):\n",
    "    pL += str(y[k]) + '* ('\n",
    "    Lxk = 1\n",
    "\n",
    "    for j in range(len(x)):\n",
    "        if ( k==j):\n",
    "            continue\n",
    "        pL += '(x-%f)*'%(x[j])\n",
    "        Lxk *= x[k] - x[j]\n",
    "    pL = pL[:-1]+ '/%f) +'%(Lxk)\n",
    "pL = pL[:-1]\n",
    "#print(pL)\n",
    "expr = sympify(pL)\n",
    "expr = expand(expr)\n",
    "x=65\n",
    "print(expr)\n",
    "\n"
   ]
  },
  {
   "cell_type": "code",
   "execution_count": 0,
   "metadata": {
    "collapsed": false
   },
   "outputs": [
   ],
   "source": [
   ]
  },
  {
   "cell_type": "code",
   "execution_count": 0,
   "metadata": {
    "collapsed": false
   },
   "outputs": [
   ],
   "source": [
   ]
  }
 ],
 "metadata": {
  "kernelspec": {
   "display_name": "SageMath (stable)",
   "language": "sagemath",
   "name": "sagemath"
  },
  "language_info": {
   "codemirror_mode": {
    "name": "ipython",
    "version": 2
   },
   "file_extension": ".py",
   "mimetype": "text/x-python",
   "name": "python",
   "nbconvert_exporter": "python",
   "pygments_lexer": "ipython2",
   "version": "2.7.15"
  }
 },
 "nbformat": 4,
 "nbformat_minor": 0
}