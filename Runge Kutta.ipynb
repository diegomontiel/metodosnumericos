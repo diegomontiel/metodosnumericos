{
 "cells": [
  {
   "cell_type": "code",
   "execution_count": 0,
   "metadata": {
    "collapsed": false
   },
   "outputs": [
   ],
   "source": [
    "import numpy as np\n",
    "import matplotlib.pyplot as plt\n",
    "x0 = 0\n",
    "y0 = 1\n",
    "xn = 2\n",
    "h = 0.5\n",
    "f = lambda x,y: x*y\n",
    "n = int(abs(x0-xn)/h) + 1\n",
    "x = np.linspace(x0,xn,n)\n",
    "\n",
    "def rk1(y0,h,f,x):\n",
    "    y = []\n",
    "    y.append(y0)\n",
    "    for i in range (1,len(x)):\n",
    "        y.append(y[i-1] + h * f(x[i-1],y[i-1]))\n",
    "    return y\n",
    "\n",
    "def rk2(y0,h,f,x):\n",
    "    y = []\n",
    "    y.append(y0)\n",
    "    for i in range (1,len(x)):\n",
    "        k1 = h * f(x[i-1], y[i-1])\n",
    "        k2 = h * f(x[i-1] +h/2, y[i-1] + k1/2)\n",
    "        y.append(y[i-1] + k2)\n",
    "    return y\n",
    "\n",
    "def rk4(y0,h,f,x):\n",
    "    y = []\n",
    "    y.append(y0)\n",
    "    for i in range (1,len(x)):\n",
    "        k1 = h * f(x[i-1], y[i-1])\n",
    "        k2 = h * f(x[i-1] +h/2, y[i-1] + k1/2)\n",
    "        k3 = h * f(x[i-1] +h/2, y[i-1] + k2/2)\n",
    "        k4 = h * f(x[i-1] + h, y[i-1] + k3)\n",
    "        y.append(y[i-1] + 1/6*(k1 + 2*k2 + 2*k3 + k4))\n",
    "    return y\n",
    "\n",
    "plt.plot(x,rk1(y0,h,f,x),'r')\n",
    "plt.plot(x,rk2(y0,h,f,x),'b')\n",
    "plt.plot(x,rk4(y0,h,f,x),'y')"
   ]
  },
  {
   "cell_type": "code",
   "execution_count": 0,
   "metadata": {
    "collapsed": false
   },
   "outputs": [
   ],
   "source": [
   ]
  }
 ],
 "metadata": {
  "kernelspec": {
   "display_name": "SageMath (stable)",
   "language": "sagemath",
   "name": "sagemath"
  },
  "language_info": {
   "codemirror_mode": {
    "name": "ipython",
    "version": 2
   },
   "file_extension": ".py",
   "mimetype": "text/x-python",
   "name": "python",
   "nbconvert_exporter": "python",
   "pygments_lexer": "ipython2",
   "version": "2.7.15"
  }
 },
 "nbformat": 4,
 "nbformat_minor": 0
}