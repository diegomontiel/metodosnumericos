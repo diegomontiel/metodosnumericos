{
 "cells": [
  {
   "cell_type": "code",
   "execution_count": 0,
   "metadata": {
    "collapsed": false
   },
   "outputs": [
   ],
   "source": [
    "def createMatrix(m,n,v):\n",
    "    C = []\n",
    "    for i in tange(m):\n",
    "        C.append([v]*n)\n",
    "    return C\n",
    "\n",
    "MA = createMatrix(4,5,0)\n",
    "MA[0] = [1,-1,2,-1,-8]\n",
    "MA[1] = [2,-2,3,-3,-20]\n",
    "MA[2] = [1,1,1,0,-2]\n",
    "MA[3] = [1,-1,4,3,4]\n",
    "\n",
    "for in range(4):\n",
    "        pivote = MA[i][i]\n",
    "        if pivote==0:\n",
    "            for j in range(i+1,4):\n",
    "                if MA [j][i] l=0;\n",
    "                    T= MA[j]\n",
    "                    MA[j]= MA[i]\n",
    "                    MA[i] = T\n",
    "                    pivote = MA[i][i]\n",
    "                    break\n",
    "        for k in range(5):\n",
    "            MA[i][k]= (1/pivote)*MA[i][k]\n",
    "        for j in range (i+1,4):\n",
    "            C = -1* MA [j][i]\n",
    "            T= createMatrix(1,5,0)\n",
    "            for k in range(5):\n",
    "                T[0][k]= C*MA[i][k]\n",
    "            for k in range(5):\n",
    "                MA[j][k] += T[0][k]\n",
    "print(MA)\n",
    "\n",
    "B = createMatrix(4,1,0)\n",
    "for i in range(3,-1,-1):\n",
    "    B[i][0]= MA[i][4]\n",
    "    for j in range(3,-1,-1):\n",
    "        if i ==j:\n",
    "            break\n",
    "        B[i][0] -= MA[i][j]*B[j][0]\n",
    "print(B)"
   ]
  }
 ],
 "metadata": {
  "kernelspec": {
   "display_name": "SageMath (stable)",
   "language": "sagemath",
   "name": "sagemath"
  },
  "language_info": {
   "codemirror_mode": {
    "name": "ipython",
    "version": 2
   },
   "file_extension": ".py",
   "mimetype": "text/x-python",
   "name": "python",
   "nbconvert_exporter": "python",
   "pygments_lexer": "ipython2",
   "version": "2.7.15"
  }
 },
 "nbformat": 4,
 "nbformat_minor": 0
}