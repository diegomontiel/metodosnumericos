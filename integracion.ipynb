{
 "cells": [
  {
   "cell_type": "code",
   "execution_count": 5,
   "metadata": {
    "collapsed": false
   },
   "outputs": [
    {
     "name": "stdout",
     "output_type": "stream",
     "text": [
      "[ 1.  2.]\n",
      "[1.0, 0.25]\n",
      "0.625\n",
      "0.416666666667\n",
      "0.46875\n"
     ]
    }
   ],
   "source": [
    "# integral 1/x**2\n",
    "#h = 1, h=0.5, h=0.25\n",
    "import numpy as np\n",
    "a = 1\n",
    "b = 2\n",
    "h = 1\n",
    "n = (b-a) / h\n",
    "x = np.linspace(1,2, n+1)\n",
    "print(x)\n",
    "def fun(x):\n",
    "    return 1/x**2\n",
    "\n",
    "y = [fun(xi) for xi in x]\n",
    "print(y)\n",
    "\n",
    "def trapecio(y,h):\n",
    "    I= sum([2*yi for yi in y[1:-1]])\n",
    "    I += y[0]\n",
    "    I += y[-1]\n",
    "    I *= h/2\n",
    "    return I\n",
    "print(trapecio(y,h))\n",
    "\n",
    "def simpson13(y,h):\n",
    "    I=0\n",
    "    I += y[0]\n",
    "    I += y[-1]\n",
    "    for i in range(1,len(y)-1):\n",
    "        if i % 2 != 0:\n",
    "            I+= 4*y[i]\n",
    "        else:\n",
    "            I += 2*y[i]\n",
    "    I *= h/3\n",
    "    return I\n",
    "print(simpson13(y,h))\n",
    "\n",
    "def simpson18(y,h):\n",
    "    I=0\n",
    "    I += y[0]\n",
    "    I += y[-1]\n",
    "    for i in range(1,len(y)-1):\n",
    "        if i % 3 != 0:\n",
    "            I+= 3*y[i]\n",
    "        else:\n",
    "            I += 2*y[i]\n",
    "    I *= 3*h/8\n",
    "    return I\n",
    "print(simpson18(y,h))\n"
   ]
  },
  {
   "cell_type": "code",
   "execution_count": 0,
   "metadata": {
    "collapsed": false
   },
   "outputs": [
   ],
   "source": [
   ]
  }
 ],
 "metadata": {
  "kernelspec": {
   "display_name": "SageMath (stable)",
   "name": "sagemath"
  }
 },
 "nbformat": 4,
 "nbformat_minor": 0
}