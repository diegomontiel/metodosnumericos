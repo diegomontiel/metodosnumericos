{
 "cells": [
  {
   "cell_type": "code",
   "execution_count": 0,
   "metadata": {
    "collapsed": false
   },
   "outputs": [
   ],
   "source": [
    "(fx1-fx0)/fx0   =    x1-x0/x1-x0 =>  x1=x0+ fx0(x1-x0)/fx1-fx0"
   ]
  },
  {
   "cell_type": "code",
   "execution_count": 0,
   "metadata": {
    "collapsed": false
   },
   "outputs": [
   ],
   "source": [
    "Metodo de Newton Rapshon \n",
    "\n",
    "Encontrar la derivada y usar \n",
    "\n",
    "Metodo de secante cuando la derivada es muy complicada, se pone un punto cerca de la funcion para obtener xr\n",
    "\n",
    "        xr= x0- ((f(x0)*(x1-x0))/(f(x1)-f(x0)))\n",
    "\n"
   ]
  },
  {
   "cell_type": "code",
   "execution_count": 1,
   "metadata": {
    "collapsed": false
   },
   "outputs": [
    {
     "name": "stdout",
     "output_type": "stream",
     "text": [
      "7\n",
      "1\n"
     ]
    }
   ],
   "source": [
    "def f(x):\n",
    "    return (x**4)-(8.6*x**3)-(35.51*x**2)+(464*x)-998.46\n",
    "def fprima(x):\n",
    "    return (4*x**3)-(25.8*x**2)-(71.02*x)+464\n",
    "\n",
    "x0 = 7\n",
    "itera = 0\n",
    "for i in range(100):\n",
    "    itera += 1\n",
    "    xr = x0 - (f(x0)/fprima(x0))\n",
    "    fxr = f(xr)\n",
    "    if abs(fxr) < 0.000001:\n",
    "        break\n",
    "    x0 = xr\n",
    "\n",
    "print (x0)\n",
    "print (itera)"
   ]
  },
  {
   "cell_type": "code",
   "execution_count": 0,
   "metadata": {
    "collapsed": false
   },
   "outputs": [
   ],
   "source": [
   ]
  }
 ],
 "metadata": {
  "kernelspec": {
   "display_name": "SageMath (stable)",
   "name": "sagemath"
  },
  "language_info": {
   "codemirror_mode": {
    "name": "ipython",
    "version": 2
   },
   "file_extension": ".py",
   "mimetype": "text/x-python",
   "name": "python",
   "nbconvert_exporter": "python",
   "pygments_lexer": "ipython2",
   "version": "2.7.15"
  }
 },
 "nbformat": 4,
 "nbformat_minor": 0
}