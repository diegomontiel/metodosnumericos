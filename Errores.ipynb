{
 "cells": [
  {
   "cell_type": "markdown",
   "metadata": {
    "collapsed": false
   },
   "source": [
    "Errores: \n",
    "    ValorReal= ValorEstimado+Error\n",
    "    Error = Valor Real - Valor Estimado\n",
    "    El error porcentual nos muestra la magnitud del error ->    E% = (VReal - VEstimado)/VReal\n",
    "    \n",
    "    Precision: la misma medida\n",
    "    Exactitud: que tan cercano estoy del valor real\n",
    "   "
   ]
  }
 ],
 "metadata": {
  "kernelspec": {
   "display_name": "SageMath (stable)",
   "name": "sagemath"
  },
  "language_info": {
   "codemirror_mode": {
    "name": "ipython",
    "version": 2
   },
   "file_extension": ".py",
   "mimetype": "text/x-python",
   "name": "python",
   "nbconvert_exporter": "python",
   "pygments_lexer": "ipython2",
   "version": "2.7.15"
  }
 },
 "nbformat": 4,
 "nbformat_minor": 0
}